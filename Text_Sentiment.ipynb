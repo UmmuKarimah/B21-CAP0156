{
  "nbformat": 4,
  "nbformat_minor": 0,
  "metadata": {
    "colab": {
      "name": "Text_Sentiment.ipynb",
      "provenance": [],
      "collapsed_sections": [],
      "toc_visible": true,
      "include_colab_link": true
    },
    "kernelspec": {
      "name": "python3",
      "display_name": "Python 3"
    },
    "language_info": {
      "name": "python"
    }
  },
  "cells": [
    {
      "cell_type": "markdown",
      "metadata": {
        "id": "view-in-github",
        "colab_type": "text"
      },
      "source": [
        "<a href=\"https://colab.research.google.com/github/UmmuKarimah/B21-CAP0156/blob/main/Text_Sentiment.ipynb\" target=\"_parent\"><img src=\"https://colab.research.google.com/assets/colab-badge.svg\" alt=\"Open In Colab\"/></a>"
      ]
    },
    {
      "cell_type": "code",
      "metadata": {
        "id": "aayOxBnJviK0"
      },
      "source": [
        "import numpy as np\n",
        "import tensorflow as tf\n",
        "import pandas as pd\n",
        "from tensorflow import keras"
      ],
      "execution_count": 179,
      "outputs": []
    },
    {
      "cell_type": "code",
      "metadata": {
        "colab": {
          "base_uri": "https://localhost:8080/"
        },
        "id": "6BZeEYxMzc3V",
        "outputId": "d3909f8c-39bf-4af3-a226-f517a4e0dade"
      },
      "source": [
        "from google.colab import drive\n",
        "drive.mount('/content/gdrive')"
      ],
      "execution_count": 180,
      "outputs": [
        {
          "output_type": "stream",
          "text": [
            "Drive already mounted at /content/gdrive; to attempt to forcibly remount, call drive.mount(\"/content/gdrive\", force_remount=True).\n"
          ],
          "name": "stdout"
        }
      ]
    },
    {
      "cell_type": "code",
      "metadata": {
        "id": "xa3YIjkGxu5h"
      },
      "source": [
        "import matplotlib.pyplot as plt\n",
        "\n",
        "def plot_graphs(history, metric):\n",
        "  plt.plot(history.history[metric])\n",
        "  plt.plot(history.history['val_'+metric], '')\n",
        "  plt.xlabel(\"Epochs\")\n",
        "  plt.ylabel(metric)\n",
        "  plt.legend([metric, 'val_'+metric])"
      ],
      "execution_count": 181,
      "outputs": []
    },
    {
      "cell_type": "code",
      "metadata": {
        "id": "W_XNLq-qxwMd"
      },
      "source": [
        "train = pd.read_csv('/content/gdrive/MyDrive/dataset/train.csv', encoding='latin-1')\n",
        "test = pd.read_csv('/content/gdrive/MyDrive/dataset/test.csv', encoding='latin-1')\n",
        "alay_dict = pd.read_csv('/content/gdrive/MyDrive/dataset/new_kamusalay.csv', encoding='latin-1', header=None)\n",
        "alay_dict = alay_dict.rename(columns={0: 'original', \n",
        "                                      1: 'replacement'})"
      ],
      "execution_count": 182,
      "outputs": []
    },
    {
      "cell_type": "code",
      "metadata": {
        "id": "tlZdDZMh1dTp",
        "colab": {
          "base_uri": "https://localhost:8080/",
          "height": 538
        },
        "outputId": "adc64ae8-dfaa-4cae-c2db-12b6cc753eca"
      },
      "source": [
        "print(\"Shape: \", train.shape)\n",
        "train.head(15)"
      ],
      "execution_count": 183,
      "outputs": [
        {
          "output_type": "stream",
          "text": [
            "Shape:  (10000, 2)\n"
          ],
          "name": "stdout"
        },
        {
          "output_type": "execute_result",
          "data": {
            "text/html": [
              "<div>\n",
              "<style scoped>\n",
              "    .dataframe tbody tr th:only-of-type {\n",
              "        vertical-align: middle;\n",
              "    }\n",
              "\n",
              "    .dataframe tbody tr th {\n",
              "        vertical-align: top;\n",
              "    }\n",
              "\n",
              "    .dataframe thead th {\n",
              "        text-align: right;\n",
              "    }\n",
              "</style>\n",
              "<table border=\"1\" class=\"dataframe\">\n",
              "  <thead>\n",
              "    <tr style=\"text-align: right;\">\n",
              "      <th></th>\n",
              "      <th>Comment</th>\n",
              "      <th>sentiment</th>\n",
              "    </tr>\n",
              "  </thead>\n",
              "  <tbody>\n",
              "    <tr>\n",
              "      <th>0</th>\n",
              "      <td>- disaat semua cowok berusaha melacak perhatia...</td>\n",
              "      <td>0</td>\n",
              "    </tr>\n",
              "    <tr>\n",
              "      <th>1</th>\n",
              "      <td>RT USER: USER siapa yang telat ngasih tau elu?...</td>\n",
              "      <td>0</td>\n",
              "    </tr>\n",
              "    <tr>\n",
              "      <th>2</th>\n",
              "      <td>41. Kadang aku berfikir, kenapa aku tetap perc...</td>\n",
              "      <td>1</td>\n",
              "    </tr>\n",
              "    <tr>\n",
              "      <th>3</th>\n",
              "      <td>USER USER AKU ITU AKU\\n\\nKU TAU MATAMU SIPIT T...</td>\n",
              "      <td>1</td>\n",
              "    </tr>\n",
              "    <tr>\n",
              "      <th>4</th>\n",
              "      <td>USER USER Kaum cebong kapir udah keliatan dong...</td>\n",
              "      <td>0</td>\n",
              "    </tr>\n",
              "    <tr>\n",
              "      <th>5</th>\n",
              "      <td>USER Ya bani taplak dkk \\xf0\\x9f\\x98\\x84\\xf0\\x...</td>\n",
              "      <td>0</td>\n",
              "    </tr>\n",
              "    <tr>\n",
              "      <th>6</th>\n",
              "      <td>deklarasi pilkada 2018 aman dan anti hoax warg...</td>\n",
              "      <td>1</td>\n",
              "    </tr>\n",
              "    <tr>\n",
              "      <th>7</th>\n",
              "      <td>Gue baru aja kelar re-watch Aldnoah Zero!!! pa...</td>\n",
              "      <td>0</td>\n",
              "    </tr>\n",
              "    <tr>\n",
              "      <th>8</th>\n",
              "      <td>Nah admin belanja satu lagi port terbaik nak m...</td>\n",
              "      <td>1</td>\n",
              "    </tr>\n",
              "    <tr>\n",
              "      <th>9</th>\n",
              "      <td>USER Enak lg klo smbil ngewe'</td>\n",
              "      <td>0</td>\n",
              "    </tr>\n",
              "    <tr>\n",
              "      <th>10</th>\n",
              "      <td>Setidaknya gw punya jari tengah buat lu, sebel...</td>\n",
              "      <td>0</td>\n",
              "    </tr>\n",
              "    <tr>\n",
              "      <th>11</th>\n",
              "      <td>USER USER USER USER BANCI KALENG MALU GA BISA ...</td>\n",
              "      <td>0</td>\n",
              "    </tr>\n",
              "    <tr>\n",
              "      <th>12</th>\n",
              "      <td>Kalo belajar ekonomi mestinya jago memprivatis...</td>\n",
              "      <td>1</td>\n",
              "    </tr>\n",
              "    <tr>\n",
              "      <th>13</th>\n",
              "      <td>Aktor huruhara 98 Prabowo S ingin lengserkan p...</td>\n",
              "      <td>0</td>\n",
              "    </tr>\n",
              "    <tr>\n",
              "      <th>14</th>\n",
              "      <td>USER Bu guru enakan jadi jablay atau guru esde...</td>\n",
              "      <td>0</td>\n",
              "    </tr>\n",
              "  </tbody>\n",
              "</table>\n",
              "</div>"
            ],
            "text/plain": [
              "                                              Comment  sentiment\n",
              "0   - disaat semua cowok berusaha melacak perhatia...          0\n",
              "1   RT USER: USER siapa yang telat ngasih tau elu?...          0\n",
              "2   41. Kadang aku berfikir, kenapa aku tetap perc...          1\n",
              "3   USER USER AKU ITU AKU\\n\\nKU TAU MATAMU SIPIT T...          1\n",
              "4   USER USER Kaum cebong kapir udah keliatan dong...          0\n",
              "5   USER Ya bani taplak dkk \\xf0\\x9f\\x98\\x84\\xf0\\x...          0\n",
              "6   deklarasi pilkada 2018 aman dan anti hoax warg...          1\n",
              "7   Gue baru aja kelar re-watch Aldnoah Zero!!! pa...          0\n",
              "8   Nah admin belanja satu lagi port terbaik nak m...          1\n",
              "9                       USER Enak lg klo smbil ngewe'          0\n",
              "10  Setidaknya gw punya jari tengah buat lu, sebel...          0\n",
              "11  USER USER USER USER BANCI KALENG MALU GA BISA ...          0\n",
              "12  Kalo belajar ekonomi mestinya jago memprivatis...          1\n",
              "13  Aktor huruhara 98 Prabowo S ingin lengserkan p...          0\n",
              "14  USER Bu guru enakan jadi jablay atau guru esde...          0"
            ]
          },
          "metadata": {
            "tags": []
          },
          "execution_count": 183
        }
      ]
    },
    {
      "cell_type": "code",
      "metadata": {
        "id": "2harjdHM12lZ",
        "colab": {
          "base_uri": "https://localhost:8080/",
          "height": 538
        },
        "outputId": "64338997-7ab6-40ab-e85a-67bbd6262f88"
      },
      "source": [
        "print(\"Shape: \", alay_dict.shape)\n",
        "alay_dict.head(15)"
      ],
      "execution_count": 184,
      "outputs": [
        {
          "output_type": "stream",
          "text": [
            "Shape:  (15167, 2)\n"
          ],
          "name": "stdout"
        },
        {
          "output_type": "execute_result",
          "data": {
            "text/html": [
              "<div>\n",
              "<style scoped>\n",
              "    .dataframe tbody tr th:only-of-type {\n",
              "        vertical-align: middle;\n",
              "    }\n",
              "\n",
              "    .dataframe tbody tr th {\n",
              "        vertical-align: top;\n",
              "    }\n",
              "\n",
              "    .dataframe thead th {\n",
              "        text-align: right;\n",
              "    }\n",
              "</style>\n",
              "<table border=\"1\" class=\"dataframe\">\n",
              "  <thead>\n",
              "    <tr style=\"text-align: right;\">\n",
              "      <th></th>\n",
              "      <th>original</th>\n",
              "      <th>replacement</th>\n",
              "    </tr>\n",
              "  </thead>\n",
              "  <tbody>\n",
              "    <tr>\n",
              "      <th>0</th>\n",
              "      <td>anakjakartaasikasik</td>\n",
              "      <td>anak jakarta asyik asyik</td>\n",
              "    </tr>\n",
              "    <tr>\n",
              "      <th>1</th>\n",
              "      <td>pakcikdahtua</td>\n",
              "      <td>pak cik sudah tua</td>\n",
              "    </tr>\n",
              "    <tr>\n",
              "      <th>2</th>\n",
              "      <td>pakcikmudalagi</td>\n",
              "      <td>pak cik muda lagi</td>\n",
              "    </tr>\n",
              "    <tr>\n",
              "      <th>3</th>\n",
              "      <td>t3tapjokowi</td>\n",
              "      <td>tetap jokowi</td>\n",
              "    </tr>\n",
              "    <tr>\n",
              "      <th>4</th>\n",
              "      <td>3x</td>\n",
              "      <td>tiga kali</td>\n",
              "    </tr>\n",
              "    <tr>\n",
              "      <th>5</th>\n",
              "      <td>aamiin</td>\n",
              "      <td>amin</td>\n",
              "    </tr>\n",
              "    <tr>\n",
              "      <th>6</th>\n",
              "      <td>aamiinn</td>\n",
              "      <td>amin</td>\n",
              "    </tr>\n",
              "    <tr>\n",
              "      <th>7</th>\n",
              "      <td>aamin</td>\n",
              "      <td>amin</td>\n",
              "    </tr>\n",
              "    <tr>\n",
              "      <th>8</th>\n",
              "      <td>aammiin</td>\n",
              "      <td>amin</td>\n",
              "    </tr>\n",
              "    <tr>\n",
              "      <th>9</th>\n",
              "      <td>abis</td>\n",
              "      <td>habis</td>\n",
              "    </tr>\n",
              "    <tr>\n",
              "      <th>10</th>\n",
              "      <td>abisin</td>\n",
              "      <td>habiskan</td>\n",
              "    </tr>\n",
              "    <tr>\n",
              "      <th>11</th>\n",
              "      <td>acau</td>\n",
              "      <td>kacau</td>\n",
              "    </tr>\n",
              "    <tr>\n",
              "      <th>12</th>\n",
              "      <td>achok</td>\n",
              "      <td>ahok</td>\n",
              "    </tr>\n",
              "    <tr>\n",
              "      <th>13</th>\n",
              "      <td>ad</td>\n",
              "      <td>ada</td>\n",
              "    </tr>\n",
              "    <tr>\n",
              "      <th>14</th>\n",
              "      <td>adek</td>\n",
              "      <td>adik</td>\n",
              "    </tr>\n",
              "  </tbody>\n",
              "</table>\n",
              "</div>"
            ],
            "text/plain": [
              "               original               replacement\n",
              "0   anakjakartaasikasik  anak jakarta asyik asyik\n",
              "1          pakcikdahtua         pak cik sudah tua\n",
              "2        pakcikmudalagi         pak cik muda lagi\n",
              "3           t3tapjokowi              tetap jokowi\n",
              "4                    3x                 tiga kali\n",
              "5                aamiin                      amin\n",
              "6               aamiinn                      amin\n",
              "7                 aamin                      amin\n",
              "8               aammiin                      amin\n",
              "9                  abis                     habis\n",
              "10               abisin                  habiskan\n",
              "11                 acau                     kacau\n",
              "12                achok                      ahok\n",
              "13                   ad                       ada\n",
              "14                 adek                      adik"
            ]
          },
          "metadata": {
            "tags": []
          },
          "execution_count": 184
        }
      ]
    },
    {
      "cell_type": "markdown",
      "metadata": {
        "id": "344SXr7I2Qkk"
      },
      "source": [
        "Preprocess"
      ]
    },
    {
      "cell_type": "code",
      "metadata": {
        "id": "7M7vIZRa2G4x"
      },
      "source": [
        "import re\n",
        "def lowercase(text):\n",
        "    return text.lower()\n",
        "\n",
        "def remove_unnecessary_char(text):\n",
        "    text = re.sub('\\n',' ',text) # Remove every '\\n'\n",
        "    text = re.sub('rt',' ',text) # Remove every retweet symbol\n",
        "    text = re.sub('user',' ',text) # Remove every username\n",
        "    text = re.sub('((www\\.[^\\s]+)|(https?://[^\\s]+)|(http?://[^\\s]+))',' ',text) # Remove every URL\n",
        "    text = re.sub('  +', ' ', text) # Remove extra spaces\n",
        "    return text\n",
        "    \n",
        "def remove_nonaplhanumeric(text):\n",
        "    text = re.sub('[^0-9a-zA-Z]+', ' ', text) \n",
        "    return text\n",
        "\n",
        "alay_dict_map = dict(zip(alay_dict['original'], alay_dict['replacement']))\n",
        "def normalize_alay(text):\n",
        "    return ' '.join([alay_dict_map[word] if word in alay_dict_map else word for word in text.split(' ')])\n",
        "\n",
        "def preprocess(text):\n",
        "    text = lowercase(text) # 1\n",
        "    text = remove_nonaplhanumeric(text) # 2\n",
        "    text = remove_unnecessary_char(text) # 2\n",
        "    text = normalize_alay(text) # 3\n",
        "    return text"
      ],
      "execution_count": 185,
      "outputs": []
    },
    {
      "cell_type": "code",
      "metadata": {
        "id": "51CI3pNl2xEv"
      },
      "source": [
        "train['Comment'] = train['Comment'].apply(preprocess)\n",
        "test['Comment'] = test['Comment'].apply(preprocess)\n"
      ],
      "execution_count": 186,
      "outputs": []
    },
    {
      "cell_type": "code",
      "metadata": {
        "id": "b9S_TZxm242L",
        "colab": {
          "base_uri": "https://localhost:8080/",
          "height": 538
        },
        "outputId": "20d81a10-0e1d-436b-d051-e181bc817b8e"
      },
      "source": [
        "print(\"Shape: \", test.shape)\n",
        "train.head(15)"
      ],
      "execution_count": 187,
      "outputs": [
        {
          "output_type": "stream",
          "text": [
            "Shape:  (3169, 2)\n"
          ],
          "name": "stdout"
        },
        {
          "output_type": "execute_result",
          "data": {
            "text/html": [
              "<div>\n",
              "<style scoped>\n",
              "    .dataframe tbody tr th:only-of-type {\n",
              "        vertical-align: middle;\n",
              "    }\n",
              "\n",
              "    .dataframe tbody tr th {\n",
              "        vertical-align: top;\n",
              "    }\n",
              "\n",
              "    .dataframe thead th {\n",
              "        text-align: right;\n",
              "    }\n",
              "</style>\n",
              "<table border=\"1\" class=\"dataframe\">\n",
              "  <thead>\n",
              "    <tr style=\"text-align: right;\">\n",
              "      <th></th>\n",
              "      <th>Comment</th>\n",
              "      <th>sentiment</th>\n",
              "    </tr>\n",
              "  </thead>\n",
              "  <tbody>\n",
              "    <tr>\n",
              "      <th>0</th>\n",
              "      <td>di saat semua cowok berusaha melacak perhatia...</td>\n",
              "      <td>0</td>\n",
              "    </tr>\n",
              "    <tr>\n",
              "      <th>1</th>\n",
              "      <td>siapa yang telat memberi tau kamu edan sarap ...</td>\n",
              "      <td>0</td>\n",
              "    </tr>\n",
              "    <tr>\n",
              "      <th>2</th>\n",
              "      <td>41 kadang aku berpikir kenapa aku tetap percay...</td>\n",
              "      <td>1</td>\n",
              "    </tr>\n",
              "    <tr>\n",
              "      <th>3</th>\n",
              "      <td>aku itu aku dan ku tau matamu sipit tapi dili...</td>\n",
              "      <td>1</td>\n",
              "    </tr>\n",
              "    <tr>\n",
              "      <th>4</th>\n",
              "      <td>kaum cebong kafir sudah kelihatan dongoknya d...</td>\n",
              "      <td>0</td>\n",
              "    </tr>\n",
              "    <tr>\n",
              "      <th>5</th>\n",
              "      <td>ya bani taplak dan kawan kawan xf0 x9f x98 x8...</td>\n",
              "      <td>0</td>\n",
              "    </tr>\n",
              "    <tr>\n",
              "      <th>6</th>\n",
              "      <td>deklarasi pilihan kepala daerah 2018 aman dan ...</td>\n",
              "      <td>1</td>\n",
              "    </tr>\n",
              "    <tr>\n",
              "      <th>7</th>\n",
              "      <td>gue baru saja selesai re watch aldnoah zero pa...</td>\n",
              "      <td>0</td>\n",
              "    </tr>\n",
              "    <tr>\n",
              "      <th>8</th>\n",
              "      <td>nah admin belanja satu lagi po terbaik nak mak...</td>\n",
              "      <td>1</td>\n",
              "    </tr>\n",
              "    <tr>\n",
              "      <th>9</th>\n",
              "      <td>enak lagi kalau sambil ngewe</td>\n",
              "      <td>0</td>\n",
              "    </tr>\n",
              "    <tr>\n",
              "      <th>10</th>\n",
              "      <td>setidaknya gue punya jari tengah buat kamu seb...</td>\n",
              "      <td>0</td>\n",
              "    </tr>\n",
              "    <tr>\n",
              "      <th>11</th>\n",
              "      <td>banci kaleng malu tidak bisa jawab pe anyaan ...</td>\n",
              "      <td>0</td>\n",
              "    </tr>\n",
              "    <tr>\n",
              "      <th>12</th>\n",
              "      <td>kalau belajar ekonomi mestinya jago memprivati...</td>\n",
              "      <td>1</td>\n",
              "    </tr>\n",
              "    <tr>\n",
              "      <th>13</th>\n",
              "      <td>aktor huru hara 98 prabowo si ingin lengserkan...</td>\n",
              "      <td>0</td>\n",
              "    </tr>\n",
              "    <tr>\n",
              "      <th>14</th>\n",
              "      <td>bu guru enakan jadi jablay atau guru sekolah ...</td>\n",
              "      <td>0</td>\n",
              "    </tr>\n",
              "  </tbody>\n",
              "</table>\n",
              "</div>"
            ],
            "text/plain": [
              "                                              Comment  sentiment\n",
              "0    di saat semua cowok berusaha melacak perhatia...          0\n",
              "1    siapa yang telat memberi tau kamu edan sarap ...          0\n",
              "2   41 kadang aku berpikir kenapa aku tetap percay...          1\n",
              "3    aku itu aku dan ku tau matamu sipit tapi dili...          1\n",
              "4    kaum cebong kafir sudah kelihatan dongoknya d...          0\n",
              "5    ya bani taplak dan kawan kawan xf0 x9f x98 x8...          0\n",
              "6   deklarasi pilihan kepala daerah 2018 aman dan ...          1\n",
              "7   gue baru saja selesai re watch aldnoah zero pa...          0\n",
              "8   nah admin belanja satu lagi po terbaik nak mak...          1\n",
              "9                       enak lagi kalau sambil ngewe           0\n",
              "10  setidaknya gue punya jari tengah buat kamu seb...          0\n",
              "11   banci kaleng malu tidak bisa jawab pe anyaan ...          0\n",
              "12  kalau belajar ekonomi mestinya jago memprivati...          1\n",
              "13  aktor huru hara 98 prabowo si ingin lengserkan...          0\n",
              "14   bu guru enakan jadi jablay atau guru sekolah ...          0"
            ]
          },
          "metadata": {
            "tags": []
          },
          "execution_count": 187
        }
      ]
    },
    {
      "cell_type": "code",
      "metadata": {
        "id": "lfM1uZX73Nzx"
      },
      "source": [
        "decode_map = {0: \"NEGATIF\", 1: \"POSITIF\"}\n",
        "def decode_sentiment(label):\n",
        "    return decode_map[int(label)]"
      ],
      "execution_count": 188,
      "outputs": []
    },
    {
      "cell_type": "code",
      "metadata": {
        "id": "qS7VSlYL45aP"
      },
      "source": [
        "train.sentiment = train.sentiment.apply(lambda x: decode_sentiment(x))\n",
        "test.sentiment = test.sentiment.apply(lambda x: decode_sentiment(x))"
      ],
      "execution_count": 189,
      "outputs": []
    },
    {
      "cell_type": "code",
      "metadata": {
        "id": "AkRXBYie6H28",
        "colab": {
          "base_uri": "https://localhost:8080/"
        },
        "outputId": "99d71cd7-c521-4550-ea11-747dbb011127"
      },
      "source": [
        "print(\"TRAIN size:\", len(train))\n",
        "print(\"TEST size:\", len(test))"
      ],
      "execution_count": 190,
      "outputs": [
        {
          "output_type": "stream",
          "text": [
            "TRAIN size: 10000\n",
            "TEST size: 3169\n"
          ],
          "name": "stdout"
        }
      ]
    },
    {
      "cell_type": "markdown",
      "metadata": {
        "id": "dc6ktEaR6hup"
      },
      "source": [
        "Tokenize text"
      ]
    },
    {
      "cell_type": "code",
      "metadata": {
        "id": "f2Y6ajY36hDd",
        "colab": {
          "base_uri": "https://localhost:8080/"
        },
        "outputId": "3b70e8d5-ce98-45e2-e4e2-e097491333b1"
      },
      "source": [
        "from keras.preprocessing.text import Tokenizer\n",
        "from keras.preprocessing.sequence import pad_sequences\n",
        "SEQUENCE_LENGTH=300\n",
        "tokenizer = Tokenizer(num_words=2000)\n",
        "tokenizer.fit_on_texts(train.Comment)\n",
        "\n",
        "vocab_size = len(tokenizer.word_index) +1\n",
        "print(\"Total words\", vocab_size)"
      ],
      "execution_count": 191,
      "outputs": [
        {
          "output_type": "stream",
          "text": [
            "Total words 17537\n"
          ],
          "name": "stdout"
        }
      ]
    },
    {
      "cell_type": "code",
      "metadata": {
        "id": "um2y-w1t7IgP"
      },
      "source": [
        "x_train = pad_sequences(tokenizer.texts_to_sequences(train.Comment), maxlen=SEQUENCE_LENGTH)\n",
        "x_test = pad_sequences(tokenizer.texts_to_sequences(test.Comment), maxlen=SEQUENCE_LENGTH)"
      ],
      "execution_count": 192,
      "outputs": []
    },
    {
      "cell_type": "markdown",
      "metadata": {
        "id": "YXfzL3z47_nM"
      },
      "source": [
        "Encoder"
      ]
    },
    {
      "cell_type": "code",
      "metadata": {
        "id": "LgJRZjJH71a-",
        "colab": {
          "base_uri": "https://localhost:8080/"
        },
        "outputId": "c83095e5-ae4b-41a6-dea0-a9bd65fe7943"
      },
      "source": [
        "labels = train.sentiment.unique().tolist()\n",
        "labels"
      ],
      "execution_count": 193,
      "outputs": [
        {
          "output_type": "execute_result",
          "data": {
            "text/plain": [
              "['NEGATIF', 'POSITIF']"
            ]
          },
          "metadata": {
            "tags": []
          },
          "execution_count": 193
        }
      ]
    },
    {
      "cell_type": "code",
      "metadata": {
        "id": "ImjcIv3e8BEX",
        "colab": {
          "base_uri": "https://localhost:8080/"
        },
        "outputId": "9f8ec631-cf0b-4556-d5ae-af9bd3b0e990"
      },
      "source": [
        "from sklearn.preprocessing import LabelEncoder\n",
        "encoder = LabelEncoder()\n",
        "encoder.fit(train.sentiment.tolist())\n",
        "\n",
        "y_train = encoder.transform(train.sentiment.tolist())\n",
        "y_test = encoder.transform(test.sentiment.tolist())\n",
        "\n",
        "y_train = y_train.reshape(-1,1)\n",
        "y_test = y_test.reshape(-1,1)\n",
        "\n",
        "print(\"y_train\",y_train.shape)\n",
        "print(\"y_test\",y_test.shape)"
      ],
      "execution_count": 194,
      "outputs": [
        {
          "output_type": "stream",
          "text": [
            "y_train (10000, 1)\n",
            "y_test (3169, 1)\n"
          ],
          "name": "stdout"
        }
      ]
    },
    {
      "cell_type": "code",
      "metadata": {
        "id": "iEHQr7yo_6hE",
        "colab": {
          "base_uri": "https://localhost:8080/"
        },
        "outputId": "3e4a1425-12b3-4f88-9eec-c7ec76651c7e"
      },
      "source": [
        "print(\"x_train\", x_train.shape)\n",
        "print(\"y_train\", y_train.shape)\n",
        "print()\n",
        "print(\"x_test\", x_test.shape)\n",
        "print(\"y_test\", y_test.shape)"
      ],
      "execution_count": 195,
      "outputs": [
        {
          "output_type": "stream",
          "text": [
            "x_train (10000, 300)\n",
            "y_train (10000, 1)\n",
            "\n",
            "x_test (3169, 300)\n",
            "y_test (3169, 1)\n"
          ],
          "name": "stdout"
        }
      ]
    },
    {
      "cell_type": "code",
      "metadata": {
        "id": "7VzvVMzpADV2",
        "colab": {
          "base_uri": "https://localhost:8080/"
        },
        "outputId": "1d5dd9a0-c0fb-4334-802b-65540fe787c4"
      },
      "source": [
        "y_train[:10]"
      ],
      "execution_count": 196,
      "outputs": [
        {
          "output_type": "execute_result",
          "data": {
            "text/plain": [
              "array([[0],\n",
              "       [0],\n",
              "       [1],\n",
              "       [1],\n",
              "       [0],\n",
              "       [0],\n",
              "       [1],\n",
              "       [0],\n",
              "       [1],\n",
              "       [0]])"
            ]
          },
          "metadata": {
            "tags": []
          },
          "execution_count": 196
        }
      ]
    },
    {
      "cell_type": "markdown",
      "metadata": {
        "id": "7omi8_lGAftm"
      },
      "source": [
        "W2vec"
      ]
    },
    {
      "cell_type": "code",
      "metadata": {
        "id": "cOYkY_WBAeyN"
      },
      "source": [
        "documents = [_Comment.split() for _Comment in train.Comment] "
      ],
      "execution_count": 197,
      "outputs": []
    },
    {
      "cell_type": "code",
      "metadata": {
        "id": "G4EIYsImAyGm"
      },
      "source": [
        "import gensim\n",
        "W2V_SIZE = 300\n",
        "W2V_WINDOW = 7\n",
        "W2V_EPOCH = 32\n",
        "W2V_MIN_COUNT = 10\n",
        "w2v_model = gensim.models.word2vec.Word2Vec(size=W2V_SIZE, \n",
        "                                            window=W2V_WINDOW, \n",
        "                                            min_count=W2V_MIN_COUNT, \n",
        "                                            workers=8)\n",
        "\n",
        "\n",
        "\n",
        "w2v_model.build_vocab(documents)\n",
        "\n"
      ],
      "execution_count": 198,
      "outputs": []
    },
    {
      "cell_type": "code",
      "metadata": {
        "id": "YMpYMqF3BdFH",
        "colab": {
          "base_uri": "https://localhost:8080/"
        },
        "outputId": "57b9d2d7-8408-44c3-cd4f-91f4ab0b4b22"
      },
      "source": [
        "words = w2v_model.wv.vocab.keys()\n",
        "vocab_size = len(words)\n",
        "print(\"Vocab size\", vocab_size)"
      ],
      "execution_count": 199,
      "outputs": [
        {
          "output_type": "stream",
          "text": [
            "Vocab size 2252\n"
          ],
          "name": "stdout"
        }
      ]
    },
    {
      "cell_type": "code",
      "metadata": {
        "id": "5B6i5-cSBnBM",
        "colab": {
          "base_uri": "https://localhost:8080/"
        },
        "outputId": "e96e2d72-7161-4c51-a2c2-60083f90d0bd"
      },
      "source": [
        "w2v_model.train(documents, total_examples=len(documents), epochs=W2V_EPOCH)"
      ],
      "execution_count": 200,
      "outputs": [
        {
          "output_type": "execute_result",
          "data": {
            "text/plain": [
              "(4079042, 5904864)"
            ]
          },
          "metadata": {
            "tags": []
          },
          "execution_count": 200
        }
      ]
    },
    {
      "cell_type": "markdown",
      "metadata": {
        "id": "z5-64xDPAHAO"
      },
      "source": [
        "Embedding layers"
      ]
    },
    {
      "cell_type": "code",
      "metadata": {
        "id": "gsk6PT0SEruc"
      },
      "source": [
        "from keras.models import Sequential\n",
        "from keras.layers import Activation, Dense, Dropout, Embedding, Flatten, Conv1D, MaxPooling1D, LSTM, Bidirectional\n",
        "from keras import utils\n",
        "from keras.callbacks import ReduceLROnPlateau"
      ],
      "execution_count": 202,
      "outputs": []
    },
    {
      "cell_type": "code",
      "metadata": {
        "id": "x2LEINlhK4Hb",
        "colab": {
          "base_uri": "https://localhost:8080/"
        },
        "outputId": "5d3ac03e-e780-4ba2-d060-1232d82bbb09"
      },
      "source": [
        "embedding_matrix = np.zeros((vocab_size, W2V_SIZE))\n",
        "for word, i in tokenizer.word_index.items():\n",
        "  if word in w2v_model.wv:\n",
        "    embedding_matrix[i-1] = w2v_model.wv[word]\n",
        "print(embedding_matrix.shape)"
      ],
      "execution_count": 203,
      "outputs": [
        {
          "output_type": "stream",
          "text": [
            "(2252, 300)\n"
          ],
          "name": "stdout"
        }
      ]
    },
    {
      "cell_type": "code",
      "metadata": {
        "id": "Vu2AtjfsAKEF"
      },
      "source": [
        "embedding_layer = Embedding(vocab_size, W2V_SIZE, weights=[embedding_matrix], input_length=SEQUENCE_LENGTH, trainable=False)"
      ],
      "execution_count": 204,
      "outputs": []
    },
    {
      "cell_type": "markdown",
      "metadata": {
        "id": "cjqNwY2YBygm"
      },
      "source": [
        "Build Model"
      ]
    },
    {
      "cell_type": "code",
      "metadata": {
        "id": "006E4-a-B0Eq",
        "colab": {
          "base_uri": "https://localhost:8080/"
        },
        "outputId": "e5f08c59-4044-478a-adb5-556afc38708a"
      },
      "source": [
        "model = Sequential()\n",
        "model.add(embedding_layer)\n",
        "model.add(Bidirectional(LSTM(units=64, recurrent_dropout = 0.3, dropout = 0.3, \n",
        "                             return_sequences = True)))\n",
        "model.add(Bidirectional(LSTM(units=32, recurrent_dropout = 0.1, dropout = 0.1)))\n",
        "model.add(Dense(1, activation='sigmoid'))\n",
        "\n",
        "model.summary()"
      ],
      "execution_count": 205,
      "outputs": [
        {
          "output_type": "stream",
          "text": [
            "Model: \"sequential_8\"\n",
            "_________________________________________________________________\n",
            "Layer (type)                 Output Shape              Param #   \n",
            "=================================================================\n",
            "embedding_1 (Embedding)      (None, 300, 300)          675600    \n",
            "_________________________________________________________________\n",
            "bidirectional_2 (Bidirection (None, 300, 128)          186880    \n",
            "_________________________________________________________________\n",
            "bidirectional_3 (Bidirection (None, 64)                41216     \n",
            "_________________________________________________________________\n",
            "dense_4 (Dense)              (None, 1)                 65        \n",
            "=================================================================\n",
            "Total params: 903,761\n",
            "Trainable params: 228,161\n",
            "Non-trainable params: 675,600\n",
            "_________________________________________________________________\n"
          ],
          "name": "stdout"
        }
      ]
    },
    {
      "cell_type": "code",
      "metadata": {
        "id": "_-y4aQeyB2ep"
      },
      "source": [
        "model.compile(loss='binary_crossentropy',\n",
        "              optimizer=\"adam\",\n",
        "              metrics=['acc'])"
      ],
      "execution_count": 206,
      "outputs": []
    },
    {
      "cell_type": "code",
      "metadata": {
        "id": "aOZUudCkB5ne"
      },
      "source": [
        "callbacks = [ ReduceLROnPlateau(monitor='val_loss', patience=5, cooldown=0),\n",
        "              EarlyStopping(monitor='val_acc', min_delta=1e-4, patience=5)]"
      ],
      "execution_count": 207,
      "outputs": []
    },
    {
      "cell_type": "code",
      "metadata": {
        "id": "ca-iJj9GB-C0",
        "colab": {
          "base_uri": "https://localhost:8080/"
        },
        "outputId": "05b06469-6966-4303-afac-a889a7ba507f"
      },
      "source": [
        "history = model.fit(x_train, y_train,\n",
        "                    batch_size=64,\n",
        "                    epochs=8,\n",
        "                    validation_split=0.1,\n",
        "                    verbose=1,\n",
        "                    callbacks=callbacks)"
      ],
      "execution_count": 208,
      "outputs": [
        {
          "output_type": "stream",
          "text": [
            "Epoch 1/8\n",
            "141/141 [==============================] - 320s 2s/step - loss: 0.6335 - acc: 0.6318 - val_loss: 0.5221 - val_acc: 0.7380\n",
            "Epoch 2/8\n",
            "141/141 [==============================] - 300s 2s/step - loss: 0.4991 - acc: 0.7642 - val_loss: 0.4367 - val_acc: 0.7870\n",
            "Epoch 3/8\n",
            "141/141 [==============================] - 302s 2s/step - loss: 0.4328 - acc: 0.8010 - val_loss: 0.4202 - val_acc: 0.8150\n",
            "Epoch 4/8\n",
            "141/141 [==============================] - 301s 2s/step - loss: 0.3728 - acc: 0.8321 - val_loss: 0.4054 - val_acc: 0.8100\n",
            "Epoch 5/8\n",
            "141/141 [==============================] - 301s 2s/step - loss: 0.3318 - acc: 0.8572 - val_loss: 0.3896 - val_acc: 0.8250\n",
            "Epoch 6/8\n",
            "141/141 [==============================] - 301s 2s/step - loss: 0.3125 - acc: 0.8706 - val_loss: 0.3943 - val_acc: 0.8140\n",
            "Epoch 7/8\n",
            "141/141 [==============================] - 302s 2s/step - loss: 0.2670 - acc: 0.8879 - val_loss: 0.3822 - val_acc: 0.8410\n",
            "Epoch 8/8\n",
            "141/141 [==============================] - 302s 2s/step - loss: 0.2460 - acc: 0.8997 - val_loss: 0.4058 - val_acc: 0.8330\n"
          ],
          "name": "stdout"
        }
      ]
    },
    {
      "cell_type": "markdown",
      "metadata": {
        "id": "uI0i4DTiCD06"
      },
      "source": [
        "Evaluate"
      ]
    },
    {
      "cell_type": "code",
      "metadata": {
        "id": "DI-PWANQCA38",
        "colab": {
          "base_uri": "https://localhost:8080/"
        },
        "outputId": "bbd0370c-dc16-440a-acd1-c7e9344c1995"
      },
      "source": [
        "score = model.evaluate(x_test, y_test, batch_size=64)\n",
        "print()\n",
        "print(\"ACCURACY:\",score[1])\n",
        "print(\"LOSS:\",score[0])"
      ],
      "execution_count": 210,
      "outputs": [
        {
          "output_type": "stream",
          "text": [
            "50/50 [==============================] - 14s 270ms/step - loss: 0.4799 - acc: 0.8056\n",
            "\n",
            "ACCURACY: 0.8056169152259827\n",
            "LOSS: 0.4798845946788788\n"
          ],
          "name": "stdout"
        }
      ]
    },
    {
      "cell_type": "code",
      "metadata": {
        "id": "07_ibcuECIEW",
        "colab": {
          "base_uri": "https://localhost:8080/",
          "height": 545
        },
        "outputId": "f797e6b3-993b-447d-8cb8-092e35ea57f8"
      },
      "source": [
        "acc = history.history['acc']\n",
        "val_acc = history.history['val_acc']\n",
        "loss = history.history['loss']\n",
        "val_loss = history.history['val_loss']\n",
        " \n",
        "epochs = range(len(acc))\n",
        " \n",
        "plt.plot(epochs, acc, 'b', label='Training acc')\n",
        "plt.plot(epochs, val_acc, 'r', label='Validation acc')\n",
        "plt.title('Training and validation accuracy')\n",
        "plt.legend()\n",
        " \n",
        "plt.figure()\n",
        " \n",
        "plt.plot(epochs, loss, 'b', label='Training loss')\n",
        "plt.plot(epochs, val_loss, 'r', label='Validation loss')\n",
        "plt.title('Training and validation loss')\n",
        "plt.legend()\n",
        " \n",
        "plt.show()"
      ],
      "execution_count": 211,
      "outputs": [
        {
          "output_type": "display_data",
          "data": {
            "image/png": "[encoded data removed]",
            "text/plain": [
              "<Figure size 432x288 with 1 Axes>"
            ]
          },
          "metadata": {
            "tags": [],
            "needs_background": "light"
          }
        },
        {
          "output_type": "display_data",
          "data": {
            "image/png": "[encoded data removed]",
            "text/plain": [
              "<Figure size 432x288 with 1 Axes>"
            ]
          },
          "metadata": {
            "tags": [],
            "needs_background": "light"
          }
        }
      ]
    },
    {
      "cell_type": "markdown",
      "metadata": {
        "id": "Xa8iKrdKCQYh"
      },
      "source": [
        "Predict"
      ]
    },
    {
      "cell_type": "code",
      "metadata": {
        "id": "uhnBC-2dCPyY"
      },
      "source": [
        "def decode_sentiment(score):\n",
        "    return \"NEGATIVE\" if score < 0.05 else \"POSITIVE\""
      ],
      "execution_count": 212,
      "outputs": []
    },
    {
      "cell_type": "code",
      "metadata": {
        "id": "GkvVFca9CKl-"
      },
      "source": [
        "def predict(text):\n",
        "    # Tokenize text\n",
        "    x_test = pad_sequences(tokenizer.texts_to_sequences([text]), maxlen=SEQUENCE_LENGTH)\n",
        "    # Predict\n",
        "    score = model.predict([x_test])[0]\n",
        "    # Decode sentiment\n",
        "    label = decode_sentiment(score)\n",
        "\n",
        "    return {\"label\": label, \"score\": float(score)}  "
      ],
      "execution_count": 213,
      "outputs": []
    },
    {
      "cell_type": "code",
      "metadata": {
        "id": "MkXWswKjCfIa",
        "colab": {
          "base_uri": "https://localhost:8080/"
        },
        "outputId": "29dd6723-d5df-4ebc-ba8b-93e87374a889"
      },
      "source": [
        "predict(\"kamu sangat jelek\")"
      ],
      "execution_count": 224,
      "outputs": [
        {
          "output_type": "execute_result",
          "data": {
            "text/plain": [
              "{'label': 'NEGATIVE', 'score': 0.04657870531082153}"
            ]
          },
          "metadata": {
            "tags": []
          },
          "execution_count": 224
        }
      ]
    },
    {
      "cell_type": "code",
      "metadata": {
        "colab": {
          "base_uri": "https://localhost:8080/"
        },
        "id": "XO9dGMEgYcvN",
        "outputId": "c6a2a017-a7af-45a7-af86-1d3220ae2083"
      },
      "source": [
        "predict(\"kamu sangat cantik\")"
      ],
      "execution_count": 223,
      "outputs": [
        {
          "output_type": "execute_result",
          "data": {
            "text/plain": [
              "{'label': 'POSITIVE', 'score': 0.18113180994987488}"
            ]
          },
          "metadata": {
            "tags": []
          },
          "execution_count": 223
        }
      ]
    },
    {
      "cell_type": "code",
      "metadata": {
        "colab": {
          "base_uri": "https://localhost:8080/"
        },
        "id": "GUp7B3xxYfL3",
        "outputId": "34095329-6a94-4cf7-efe0-adda03f207e6"
      },
      "source": [
        "predict(\"bangsat\")"
      ],
      "execution_count": 226,
      "outputs": [
        {
          "output_type": "execute_result",
          "data": {
            "text/plain": [
              "{'label': 'NEGATIVE', 'score': 0.02215901017189026}"
            ]
          },
          "metadata": {
            "tags": []
          },
          "execution_count": 226
        }
      ]
    },
    {
      "cell_type": "code",
      "metadata": {
        "colab": {
          "base_uri": "https://localhost:8080/"
        },
        "id": "DW2a0LYRcI3t",
        "outputId": "cbe0493c-a762-424d-bc57-c84ca5d71c61"
      },
      "source": [
        "model.save(\"text_sentiment\")"
      ],
      "execution_count": 225,
      "outputs": [
        {
          "output_type": "stream",
          "text": [
            "INFO:tensorflow:Assets written to: text_sentiment/assets\n"
          ],
          "name": "stdout"
        }
      ]
    },
    {
      "cell_type": "code",
      "metadata": {
        "colab": {
          "base_uri": "https://localhost:8080/"
        },
        "id": "G9nB4UfhdB9c",
        "outputId": "67460e48-6239-47c2-cd66-708953a4a54e"
      },
      "source": [
        "!ls text_sentiment"
      ],
      "execution_count": null,
      "outputs": [
        {
          "output_type": "stream",
          "text": [
            "assets\tkeras_metadata.pb  saved_model.pb  variables\n"
          ],
          "name": "stdout"
        }
      ]
    }
  ]
}