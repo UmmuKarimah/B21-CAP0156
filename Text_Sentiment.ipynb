{
  "nbformat": 4,
  "nbformat_minor": 0,
  "metadata": {
    "colab": {
      "name": "Text_Sentiment.ipynb",
      "provenance": [],
      "collapsed_sections": [],
      "toc_visible": true,
      "include_colab_link": true
    },
    "kernelspec": {
      "name": "python3",
      "display_name": "Python 3"
    },
    "language_info": {
      "name": "python"
    }
  },
  "cells": [
    {
      "cell_type": "markdown",
      "metadata": {
        "id": "view-in-github",
        "colab_type": "text"
      },
      "source": [
        "<a href=\"https://colab.research.google.com/github/UmmuKarimah/B21-CAP0156/blob/main/Text_Sentiment.ipynb\" target=\"_parent\"><img src=\"https://colab.research.google.com/assets/colab-badge.svg\" alt=\"Open In Colab\"/></a>"
      ]
    },
    {
      "cell_type": "code",
      "metadata": {
        "id": "aayOxBnJviK0"
      },
      "source": [
        "import numpy as np\n",
        "import tensorflow as tf\n",
        "import pandas as pd"
      ],
      "execution_count": null,
      "outputs": []
    },
    {
      "cell_type": "code",
      "metadata": {
        "colab": {
          "base_uri": "https://localhost:8080/"
        },
        "id": "6BZeEYxMzc3V",
        "outputId": "5acc816a-4e61-41cb-a1e5-93614ddf1e44"
      },
      "source": [
        "from google.colab import drive\n",
        "drive.mount('/content/gdrive')"
      ],
      "execution_count": 246,
      "outputs": [
        {
          "output_type": "stream",
          "text": [
            "Drive already mounted at /content/gdrive; to attempt to forcibly remount, call drive.mount(\"/content/gdrive\", force_remount=True).\n"
          ],
          "name": "stdout"
        }
      ]
    },
    {
      "cell_type": "code",
      "metadata": {
        "id": "xa3YIjkGxu5h"
      },
      "source": [
        "import matplotlib.pyplot as plt\n",
        "\n",
        "def plot_graphs(history, metric):\n",
        "  plt.plot(history.history[metric])\n",
        "  plt.plot(history.history['val_'+metric], '')\n",
        "  plt.xlabel(\"Epochs\")\n",
        "  plt.ylabel(metric)\n",
        "  plt.legend([metric, 'val_'+metric])"
      ],
      "execution_count": null,
      "outputs": []
    },
    {
      "cell_type": "code",
      "metadata": {
        "id": "W_XNLq-qxwMd"
      },
      "source": [
        "train = pd.read_csv('/content/gdrive/MyDrive/dataset/train.csv', encoding='latin-1')\n",
        "test = pd.read_csv('/content/gdrive/MyDrive/dataset/test.csv', encoding='latin-1')\n",
        "alay_dict = pd.read_csv('/content/gdrive/MyDrive/dataset/new_kamusalay.csv', encoding='latin-1', header=None)\n",
        "alay_dict = alay_dict.rename(columns={0: 'original', \n",
        "                                      1: 'replacement'})"
      ],
      "execution_count": null,
      "outputs": []
    },
    {
      "cell_type": "code",
      "metadata": {
        "id": "tlZdDZMh1dTp"
      },
      "source": [
        "print(\"Shape: \", train.shape)\n",
        "train.head(15)"
      ],
      "execution_count": null,
      "outputs": []
    },
    {
      "cell_type": "code",
      "metadata": {
        "id": "2harjdHM12lZ"
      },
      "source": [
        "print(\"Shape: \", alay_dict.shape)\n",
        "alay_dict.head(15)"
      ],
      "execution_count": null,
      "outputs": []
    },
    {
      "cell_type": "markdown",
      "metadata": {
        "id": "344SXr7I2Qkk"
      },
      "source": [
        "Preprocess"
      ]
    },
    {
      "cell_type": "code",
      "metadata": {
        "id": "7M7vIZRa2G4x"
      },
      "source": [
        "import re\n",
        "def lowercase(text):\n",
        "    return text.lower()\n",
        "\n",
        "def remove_unnecessary_char(text):\n",
        "    text = re.sub('\\n',' ',text) # Remove every '\\n'\n",
        "    text = re.sub('rt',' ',text) # Remove every retweet symbol\n",
        "    text = re.sub('user',' ',text) # Remove every username\n",
        "    text = re.sub('((www\\.[^\\s]+)|(https?://[^\\s]+)|(http?://[^\\s]+))',' ',text) # Remove every URL\n",
        "    text = re.sub('  +', ' ', text) # Remove extra spaces\n",
        "    return text\n",
        "    \n",
        "def remove_nonaplhanumeric(text):\n",
        "    text = re.sub('[^0-9a-zA-Z]+', ' ', text) \n",
        "    return text\n",
        "\n",
        "alay_dict_map = dict(zip(alay_dict['original'], alay_dict['replacement']))\n",
        "def normalize_alay(text):\n",
        "    return ' '.join([alay_dict_map[word] if word in alay_dict_map else word for word in text.split(' ')])\n",
        "\n",
        "def preprocess(text):\n",
        "    text = lowercase(text) # 1\n",
        "    text = remove_nonaplhanumeric(text) # 2\n",
        "    text = remove_unnecessary_char(text) # 2\n",
        "    text = normalize_alay(text) # 3\n",
        "    return text"
      ],
      "execution_count": null,
      "outputs": []
    },
    {
      "cell_type": "code",
      "metadata": {
        "id": "51CI3pNl2xEv"
      },
      "source": [
        "train['Comment'] = train['Comment'].apply(preprocess)\n",
        "test['Comment'] = test['Comment'].apply(preprocess)\n"
      ],
      "execution_count": null,
      "outputs": []
    },
    {
      "cell_type": "code",
      "metadata": {
        "id": "b9S_TZxm242L"
      },
      "source": [
        "print(\"Shape: \", test.shape)\n",
        "train.head(15)"
      ],
      "execution_count": null,
      "outputs": []
    },
    {
      "cell_type": "code",
      "metadata": {
        "id": "lfM1uZX73Nzx"
      },
      "source": [
        "decode_map = {0: \"NEGATIF\", 1: \"POSITIF\"}\n",
        "def decode_sentiment(label):\n",
        "    return decode_map[int(label)]"
      ],
      "execution_count": null,
      "outputs": []
    },
    {
      "cell_type": "code",
      "metadata": {
        "id": "qS7VSlYL45aP"
      },
      "source": [
        "train.sentiment = train.sentiment.apply(lambda x: decode_sentiment(x))\n",
        "test.sentiment = test.sentiment.apply(lambda x: decode_sentiment(x))"
      ],
      "execution_count": null,
      "outputs": []
    },
    {
      "cell_type": "code",
      "metadata": {
        "id": "AkRXBYie6H28"
      },
      "source": [
        "print(\"TRAIN size:\", len(train))\n",
        "print(\"TEST size:\", len(test))"
      ],
      "execution_count": null,
      "outputs": []
    },
    {
      "cell_type": "markdown",
      "metadata": {
        "id": "dc6ktEaR6hup"
      },
      "source": [
        "Tokenize text"
      ]
    },
    {
      "cell_type": "code",
      "metadata": {
        "id": "f2Y6ajY36hDd",
        "colab": {
          "base_uri": "https://localhost:8080/"
        },
        "outputId": "f3087991-5b79-4db8-fbe8-5851a7b38df0"
      },
      "source": [
        "from keras.preprocessing.text import Tokenizer\n",
        "from keras.preprocessing.sequence import pad_sequences\n",
        "SEQUENCE_LENGTH=300\n",
        "tokenizer = Tokenizer(num_words=2000)\n",
        "tokenizer.fit_on_texts(train.Comment)\n",
        "\n",
        "vocab_size = len(tokenizer.word_index) +1\n",
        "print(\"Total words\", vocab_size)"
      ],
      "execution_count": 167,
      "outputs": [
        {
          "output_type": "stream",
          "text": [
            "Total words 17537\n"
          ],
          "name": "stdout"
        }
      ]
    },
    {
      "cell_type": "code",
      "metadata": {
        "id": "um2y-w1t7IgP"
      },
      "source": [
        "x_train = pad_sequences(tokenizer.texts_to_sequences(train.Comment), maxlen=SEQUENCE_LENGTH)\n",
        "x_test = pad_sequences(tokenizer.texts_to_sequences(test.Comment), maxlen=SEQUENCE_LENGTH)"
      ],
      "execution_count": 168,
      "outputs": []
    },
    {
      "cell_type": "markdown",
      "metadata": {
        "id": "YXfzL3z47_nM"
      },
      "source": [
        "Encoder"
      ]
    },
    {
      "cell_type": "code",
      "metadata": {
        "id": "LgJRZjJH71a-",
        "colab": {
          "base_uri": "https://localhost:8080/"
        },
        "outputId": "51c1852c-8aef-43e2-f4ec-bc51a9037b74"
      },
      "source": [
        "labels = train.sentiment.unique().tolist()\n",
        "labels"
      ],
      "execution_count": 169,
      "outputs": [
        {
          "output_type": "execute_result",
          "data": {
            "text/plain": [
              "['NEGATIF', 'POSITIF']"
            ]
          },
          "metadata": {
            "tags": []
          },
          "execution_count": 169
        }
      ]
    },
    {
      "cell_type": "code",
      "metadata": {
        "id": "ImjcIv3e8BEX",
        "colab": {
          "base_uri": "https://localhost:8080/"
        },
        "outputId": "199dccd8-e7ba-42f4-db16-3565566c4cc1"
      },
      "source": [
        "from sklearn.preprocessing import LabelEncoder\n",
        "encoder = LabelEncoder()\n",
        "encoder.fit(train.sentiment.tolist())\n",
        "\n",
        "y_train = encoder.transform(train.sentiment.tolist())\n",
        "y_test = encoder.transform(test.sentiment.tolist())\n",
        "\n",
        "y_train = y_train.reshape(-1,1)\n",
        "y_test = y_test.reshape(-1,1)\n",
        "\n",
        "print(\"y_train\",y_train.shape)\n",
        "print(\"y_test\",y_test.shape)"
      ],
      "execution_count": 170,
      "outputs": [
        {
          "output_type": "stream",
          "text": [
            "y_train (10000, 1)\n",
            "y_test (3169, 1)\n"
          ],
          "name": "stdout"
        }
      ]
    },
    {
      "cell_type": "code",
      "metadata": {
        "id": "iEHQr7yo_6hE",
        "colab": {
          "base_uri": "https://localhost:8080/"
        },
        "outputId": "f6a3f0fb-bb93-4fdd-e03e-30673d3b5062"
      },
      "source": [
        "print(\"x_train\", x_train.shape)\n",
        "print(\"y_train\", y_train.shape)\n",
        "print()\n",
        "print(\"x_test\", x_test.shape)\n",
        "print(\"y_test\", y_test.shape)"
      ],
      "execution_count": 171,
      "outputs": [
        {
          "output_type": "stream",
          "text": [
            "x_train (10000, 300)\n",
            "y_train (10000, 1)\n",
            "\n",
            "x_test (3169, 300)\n",
            "y_test (3169, 1)\n"
          ],
          "name": "stdout"
        }
      ]
    },
    {
      "cell_type": "code",
      "metadata": {
        "id": "7VzvVMzpADV2",
        "colab": {
          "base_uri": "https://localhost:8080/"
        },
        "outputId": "cf5216c5-20a9-4fb3-d0f4-a5bb5ed16b33"
      },
      "source": [
        "y_train[:10]"
      ],
      "execution_count": 172,
      "outputs": [
        {
          "output_type": "execute_result",
          "data": {
            "text/plain": [
              "array([[0],\n",
              "       [0],\n",
              "       [1],\n",
              "       [1],\n",
              "       [0],\n",
              "       [0],\n",
              "       [1],\n",
              "       [0],\n",
              "       [1],\n",
              "       [0]])"
            ]
          },
          "metadata": {
            "tags": []
          },
          "execution_count": 172
        }
      ]
    },
    {
      "cell_type": "markdown",
      "metadata": {
        "id": "7omi8_lGAftm"
      },
      "source": [
        "W2vec"
      ]
    },
    {
      "cell_type": "code",
      "metadata": {
        "id": "cOYkY_WBAeyN"
      },
      "source": [
        "documents = [_Comment.split() for _Comment in train.Comment] "
      ],
      "execution_count": 173,
      "outputs": []
    },
    {
      "cell_type": "code",
      "metadata": {
        "id": "G4EIYsImAyGm"
      },
      "source": [
        "import gensim\n",
        "W2V_SIZE = 100\n",
        "W2V_WINDOW = 5\n",
        "W2V_EPOCH = 20\n",
        "W2V_MIN_COUNT = 8\n",
        "w2v_model = gensim.models.word2vec.Word2Vec(size=W2V_SIZE, \n",
        "                                            window=W2V_WINDOW, \n",
        "                                            min_count=W2V_MIN_COUNT, \n",
        "                                            workers=8)\n",
        "\n",
        "\n",
        "\n",
        "w2v_model.build_vocab(documents)\n",
        "\n"
      ],
      "execution_count": 174,
      "outputs": []
    },
    {
      "cell_type": "code",
      "metadata": {
        "id": "YMpYMqF3BdFH",
        "colab": {
          "base_uri": "https://localhost:8080/"
        },
        "outputId": "22c568d1-7194-45b8-f10b-18928f2b4a75"
      },
      "source": [
        "words = w2v_model.wv.vocab.keys()\n",
        "vocab_size = len(words)\n",
        "print(\"Vocab size\", vocab_size)"
      ],
      "execution_count": 175,
      "outputs": [
        {
          "output_type": "stream",
          "text": [
            "Vocab size 2739\n"
          ],
          "name": "stdout"
        }
      ]
    },
    {
      "cell_type": "code",
      "metadata": {
        "id": "5B6i5-cSBnBM",
        "colab": {
          "base_uri": "https://localhost:8080/"
        },
        "outputId": "eacfb508-b80e-4357-d4fa-2d8935d2ff16"
      },
      "source": [
        "w2v_model.train(documents, total_examples=len(documents), epochs=W2V_EPOCH)"
      ],
      "execution_count": 176,
      "outputs": [
        {
          "output_type": "execute_result",
          "data": {
            "text/plain": [
              "(2642397, 3690540)"
            ]
          },
          "metadata": {
            "tags": []
          },
          "execution_count": 176
        }
      ]
    },
    {
      "cell_type": "markdown",
      "metadata": {
        "id": "z5-64xDPAHAO"
      },
      "source": [
        "Embedding layers"
      ]
    },
    {
      "cell_type": "code",
      "metadata": {
        "id": "gsk6PT0SEruc"
      },
      "source": [
        "from keras.models import Sequential\n",
        "from keras.layers import Activation, Dense, Dropout, Embedding, Flatten, Conv1D, MaxPooling1D, LSTM\n",
        "from keras import utils\n",
        "from keras.callbacks import ReduceLROnPlateau, EarlyStopping"
      ],
      "execution_count": 177,
      "outputs": []
    },
    {
      "cell_type": "code",
      "metadata": {
        "id": "x2LEINlhK4Hb",
        "colab": {
          "base_uri": "https://localhost:8080/"
        },
        "outputId": "ac395ec4-8c7b-422e-cccc-60ffedbc8529"
      },
      "source": [
        "embedding_matrix = np.zeros((vocab_size, W2V_SIZE))\n",
        "for word, i in tokenizer.word_index.items():\n",
        "  if word in w2v_model.wv:\n",
        "    embedding_matrix[i-1] = w2v_model.wv[word]\n",
        "print(embedding_matrix.shape)"
      ],
      "execution_count": 178,
      "outputs": [
        {
          "output_type": "stream",
          "text": [
            "(2739, 100)\n"
          ],
          "name": "stdout"
        }
      ]
    },
    {
      "cell_type": "code",
      "metadata": {
        "id": "Vu2AtjfsAKEF"
      },
      "source": [
        "embedding_layer = Embedding(vocab_size, W2V_SIZE, weights=[embedding_matrix], input_length=SEQUENCE_LENGTH, trainable=False)"
      ],
      "execution_count": 179,
      "outputs": []
    },
    {
      "cell_type": "markdown",
      "metadata": {
        "id": "cjqNwY2YBygm"
      },
      "source": [
        "Build Model"
      ]
    },
    {
      "cell_type": "code",
      "metadata": {
        "id": "006E4-a-B0Eq",
        "colab": {
          "base_uri": "https://localhost:8080/"
        },
        "outputId": "c1f4e02a-77e1-4ce7-dbc9-7c1875fd8eab"
      },
      "source": [
        "model = Sequential()\n",
        "model.add(embedding_layer)\n",
        "model.add(Dropout(0.5))\n",
        "model.add(LSTM(100, dropout=0.2, recurrent_dropout=0.2))\n",
        "model.add(Dense(1, activation='sigmoid'))\n",
        "\n",
        "model.summary()"
      ],
      "execution_count": 180,
      "outputs": [
        {
          "output_type": "stream",
          "text": [
            "Model: \"sequential_3\"\n",
            "_________________________________________________________________\n",
            "Layer (type)                 Output Shape              Param #   \n",
            "=================================================================\n",
            "embedding_2 (Embedding)      (None, 300, 100)          273900    \n",
            "_________________________________________________________________\n",
            "dropout_3 (Dropout)          (None, 300, 100)          0         \n",
            "_________________________________________________________________\n",
            "lstm_3 (LSTM)                (None, 100)               80400     \n",
            "_________________________________________________________________\n",
            "dense_3 (Dense)              (None, 1)                 101       \n",
            "=================================================================\n",
            "Total params: 354,401\n",
            "Trainable params: 80,501\n",
            "Non-trainable params: 273,900\n",
            "_________________________________________________________________\n"
          ],
          "name": "stdout"
        }
      ]
    },
    {
      "cell_type": "code",
      "metadata": {
        "id": "_-y4aQeyB2ep"
      },
      "source": [
        "model.compile(loss='binary_crossentropy',\n",
        "              optimizer=\"adam\",\n",
        "              metrics=['acc'])"
      ],
      "execution_count": 187,
      "outputs": []
    },
    {
      "cell_type": "code",
      "metadata": {
        "id": "aOZUudCkB5ne"
      },
      "source": [
        "callbacks = [ ReduceLROnPlateau(monitor='val_loss', patience=5, cooldown=0),\n",
        "              EarlyStopping(monitor='val_acc', min_delta=1e-4, patience=5)]"
      ],
      "execution_count": 188,
      "outputs": []
    },
    {
      "cell_type": "code",
      "metadata": {
        "id": "ca-iJj9GB-C0",
        "colab": {
          "base_uri": "https://localhost:8080/"
        },
        "outputId": "1a9c14bb-9fdf-4ffd-b3be-a5fd25c73ec8"
      },
      "source": [
        "history = model.fit(x_train, y_train,\n",
        "                    batch_size=100,\n",
        "                    epochs=8,\n",
        "                    validation_split=0.1,\n",
        "                    verbose=1,\n",
        "                    callbacks=callbacks)"
      ],
      "execution_count": 210,
      "outputs": [
        {
          "output_type": "stream",
          "text": [
            "Epoch 1/10\n",
            "90/90 [==============================] - 86s 933ms/step - loss: 0.4436 - acc: 0.7934 - val_loss: 0.4543 - val_acc: 0.7960\n",
            "Epoch 2/10\n",
            "90/90 [==============================] - 83s 919ms/step - loss: 0.4427 - acc: 0.7909 - val_loss: 0.4535 - val_acc: 0.7910\n",
            "Epoch 3/10\n",
            "90/90 [==============================] - 82s 915ms/step - loss: 0.4439 - acc: 0.7879 - val_loss: 0.4624 - val_acc: 0.8020\n",
            "Epoch 4/10\n",
            "90/90 [==============================] - 82s 916ms/step - loss: 0.4349 - acc: 0.7919 - val_loss: 0.4613 - val_acc: 0.7960\n",
            "Epoch 5/10\n",
            "90/90 [==============================] - 83s 918ms/step - loss: 0.4337 - acc: 0.7963 - val_loss: 0.4675 - val_acc: 0.7940\n",
            "Epoch 6/10\n",
            "90/90 [==============================] - 83s 919ms/step - loss: 0.4233 - acc: 0.8050 - val_loss: 0.4676 - val_acc: 0.7960\n",
            "Epoch 7/10\n",
            "90/90 [==============================] - 83s 920ms/step - loss: 0.4213 - acc: 0.8064 - val_loss: 0.4480 - val_acc: 0.8010\n",
            "Epoch 8/10\n",
            "90/90 [==============================] - 83s 924ms/step - loss: 0.4189 - acc: 0.8037 - val_loss: 0.4657 - val_acc: 0.7940\n"
          ],
          "name": "stdout"
        }
      ]
    },
    {
      "cell_type": "markdown",
      "metadata": {
        "id": "uI0i4DTiCD06"
      },
      "source": [
        "Evaluate"
      ]
    },
    {
      "cell_type": "code",
      "metadata": {
        "id": "DI-PWANQCA38",
        "colab": {
          "base_uri": "https://localhost:8080/"
        },
        "outputId": "b1c4a6a1-2662-43d7-c515-100da9bdc5b5"
      },
      "source": [
        "score = model.evaluate(x_test, y_test, batch_size=90)\n",
        "print()\n",
        "print(\"ACCURACY:\",score[1])\n",
        "print(\"LOSS:\",score[0])"
      ],
      "execution_count": 211,
      "outputs": [
        {
          "output_type": "stream",
          "text": [
            "36/36 [==============================] - 6s 155ms/step - loss: 0.5112 - acc: 0.7700\n",
            "\n",
            "ACCURACY: 0.7699589729309082\n",
            "LOSS: 0.5112320780754089\n"
          ],
          "name": "stdout"
        }
      ]
    },
    {
      "cell_type": "code",
      "metadata": {
        "id": "07_ibcuECIEW",
        "colab": {
          "base_uri": "https://localhost:8080/",
          "height": 545
        },
        "outputId": "ed48ef19-6e8e-41d2-9c36-8fceec5f8518"
      },
      "source": [
        "acc = history.history['acc']\n",
        "val_acc = history.history['val_acc']\n",
        "loss = history.history['loss']\n",
        "val_loss = history.history['val_loss']\n",
        " \n",
        "epochs = range(len(acc))\n",
        " \n",
        "plt.plot(epochs, acc, 'b', label='Training acc')\n",
        "plt.plot(epochs, val_acc, 'r', label='Validation acc')\n",
        "plt.title('Training and validation accuracy')\n",
        "plt.legend()\n",
        " \n",
        "plt.figure()\n",
        " \n",
        "plt.plot(epochs, loss, 'b', label='Training loss')\n",
        "plt.plot(epochs, val_loss, 'r', label='Validation loss')\n",
        "plt.title('Training and validation loss')\n",
        "plt.legend()\n",
        " \n",
        "plt.show()"
      ],
      "execution_count": 212,
      "outputs": [
        {
          "output_type": "display_data",
          "data": {
            "image/png": "[encoded data removed]",
            "text/plain": [
              "<Figure size 432x288 with 1 Axes>"
            ]
          },
          "metadata": {
            "tags": [],
            "needs_background": "light"
          }
        },
        {
          "output_type": "display_data",
          "data": {
            "image/png": "[encoded data removed]",
            "text/plain": [
              "<Figure size 432x288 with 1 Axes>"
            ]
          },
          "metadata": {
            "tags": [],
            "needs_background": "light"
          }
        }
      ]
    },
    {
      "cell_type": "markdown",
      "metadata": {
        "id": "Xa8iKrdKCQYh"
      },
      "source": [
        "Predict"
      ]
    },
    {
      "cell_type": "code",
      "metadata": {
        "id": "uhnBC-2dCPyY"
      },
      "source": [
        "def decode_sentiment(score):\n",
        "    return \"NEGATIVE\" if score < 0.1 else \"POSITIVE\""
      ],
      "execution_count": 238,
      "outputs": []
    },
    {
      "cell_type": "code",
      "metadata": {
        "id": "GkvVFca9CKl-"
      },
      "source": [
        "def predict(text):\n",
        "    # Tokenize text\n",
        "    x_test = pad_sequences(tokenizer.texts_to_sequences([text]), maxlen=SEQUENCE_LENGTH)\n",
        "    # Predict\n",
        "    score = model.predict([x_test])[0]\n",
        "    # Decode sentiment\n",
        "    label = decode_sentiment(score)\n",
        "\n",
        "    return {\"label\": label, \"score\": float(score)}  "
      ],
      "execution_count": 239,
      "outputs": []
    },
    {
      "cell_type": "code",
      "metadata": {
        "id": "MkXWswKjCfIa",
        "colab": {
          "base_uri": "https://localhost:8080/"
        },
        "outputId": "1f4b79a0-d3bc-4ead-82a7-b604e84ce9c5"
      },
      "source": [
        "predict(\"kamu sangat jelek\")"
      ],
      "execution_count": 240,
      "outputs": [
        {
          "output_type": "execute_result",
          "data": {
            "text/plain": [
              "{'label': 'NEGATIVE', 'score': 0.01641601324081421}"
            ]
          },
          "metadata": {
            "tags": []
          },
          "execution_count": 240
        }
      ]
    },
    {
      "cell_type": "code",
      "metadata": {
        "colab": {
          "base_uri": "https://localhost:8080/"
        },
        "id": "XO9dGMEgYcvN",
        "outputId": "4ee8f212-a545-4c92-ef3a-211b43257595"
      },
      "source": [
        "predict(\"semua lancar tanpa kendala\")"
      ],
      "execution_count": 241,
      "outputs": [
        {
          "output_type": "execute_result",
          "data": {
            "text/plain": [
              "{'label': 'POSITIVE', 'score': 0.788658857345581}"
            ]
          },
          "metadata": {
            "tags": []
          },
          "execution_count": 241
        }
      ]
    },
    {
      "cell_type": "code",
      "metadata": {
        "colab": {
          "base_uri": "https://localhost:8080/"
        },
        "id": "GUp7B3xxYfL3",
        "outputId": "c593beda-fa71-4a54-d53a-f92146f8b175"
      },
      "source": [
        "predict(\"aku pernah dipukul berkali-kali\")"
      ],
      "execution_count": 245,
      "outputs": [
        {
          "output_type": "execute_result",
          "data": {
            "text/plain": [
              "{'label': 'POSITIVE', 'score': 0.42216742038726807}"
            ]
          },
          "metadata": {
            "tags": []
          },
          "execution_count": 245
        }
      ]
    },
    {
      "cell_type": "code",
      "metadata": {
        "colab": {
          "base_uri": "https://localhost:8080/"
        },
        "id": "DW2a0LYRcI3t",
        "outputId": "93f95ced-35a3-4025-86fc-f8f6e63ef1a8"
      },
      "source": [
        "model.save(\"text_sentiment\")"
      ],
      "execution_count": 221,
      "outputs": [
        {
          "output_type": "stream",
          "text": [
            "INFO:tensorflow:Assets written to: text_sentiment/assets\n"
          ],
          "name": "stdout"
        }
      ]
    },
    {
      "cell_type": "code",
      "metadata": {
        "colab": {
          "base_uri": "https://localhost:8080/"
        },
        "id": "G9nB4UfhdB9c",
        "outputId": "67460e48-6239-47c2-cd66-708953a4a54e"
      },
      "source": [
        "!ls text_sentiment"
      ],
      "execution_count": 223,
      "outputs": [
        {
          "output_type": "stream",
          "text": [
            "assets\tkeras_metadata.pb  saved_model.pb  variables\n"
          ],
          "name": "stdout"
        }
      ]
    }
  ]
}